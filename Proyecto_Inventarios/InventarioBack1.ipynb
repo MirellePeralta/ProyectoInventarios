{
 "cells": [
  {
   "cell_type": "markdown",
   "metadata": {},
   "source": [
    "# **Creación de Diccionarios**"
   ]
  },
  {
   "cell_type": "code",
   "execution_count": 12,
   "metadata": {},
   "outputs": [],
   "source": [
    "import pandas as pd"
   ]
  },
  {
   "cell_type": "code",
   "execution_count": 13,
   "metadata": {},
   "outputs": [],
   "source": [
    "# Inicializamos una lista para almacenar los productos\n",
    "productos = []"
   ]
  },
  {
   "cell_type": "code",
   "execution_count": 14,
   "metadata": {},
   "outputs": [],
   "source": [
    "# Creamos un bucle para pedir productos al usuario\n",
    "while True:\n",
    "    nombre = input(\"Ingrese el nombre del producto (o escriba 'fin' para terminar): \")\n",
    "\n",
    "    if nombre.lower() == 'fin':\n",
    "        break\n",
    "\n",
    "    descripcion = input(\"Ingrese la descripción del producto: \")\n",
    "    precio = float(input(\"Ingrese el precio del producto: \"))\n",
    "    stock = int(input(\"Ingrese la cantidad en stock del producto: \"))\n",
    "    code = input(\"Ingrese el código del producto: \")\n",
    "    \n",
    "    # Creamos un diccionario para representar el producto\n",
    "    producto = {\n",
    "        'nombre': nombre,\n",
    "        'descripcion': descripcion,\n",
    "        'precio': precio,\n",
    "        'stock': stock,\n",
    "        'code': code,\n",
    "    }\n",
    "\n",
    "    # Añadimos el producto a la lista de productos\n",
    "    productos.append(producto)"
   ]
  },
  {
   "cell_type": "code",
   "execution_count": 15,
   "metadata": {},
   "outputs": [
    {
     "name": "stdout",
     "output_type": "stream",
     "text": [
      "         nombre   descripcion  precio  stock  code\n",
      "0  Desarmadores  Cruz y Palta    50.0      3  A001\n",
      "1    Multimatro        Morado   500.0      1  A002\n",
      "2         Cable  De Corrienta    50.0     10   fin\n"
     ]
    }
   ],
   "source": [
    "# Convertir la lista de productos en un DataFrame\n",
    "df_productos = pd.DataFrame(productos)\n",
    "\n",
    "# Visualizar el DataFrame como una tabla\n",
    "print(df_productos)"
   ]
  },
  {
   "cell_type": "code",
   "execution_count": 16,
   "metadata": {},
   "outputs": [
    {
     "name": "stdout",
     "output_type": "stream",
     "text": [
      "\n",
      "Productos ingresados:\n",
      "Nombre: Desarmadores, Descripción: Cruz y Palta, Precio: 50.0, Stock: 3, Código: A001\n",
      "Nombre: Multimatro, Descripción: Morado, Precio: 500.0, Stock: 1, Código: A002\n",
      "Nombre: Cable, Descripción: De Corrienta, Precio: 50.0, Stock: 10, Código: fin\n"
     ]
    }
   ],
   "source": [
    "# Mostramos los productos ingresados\n",
    "print(\"\\nProductos ingresados:\")\n",
    "for producto in productos:\n",
    "    print(f\"Nombre: {producto['nombre']}, Descripción: {producto['descripcion']}, Precio: {producto['precio']}, Stock: {producto['stock']}, Código: {producto['code']}\")"
   ]
  },
  {
   "cell_type": "code",
   "execution_count": 17,
   "metadata": {},
   "outputs": [],
   "source": [
    "codigo_producto = input(\"Ingrese el código del producto que desea modificar: \")"
   ]
  },
  {
   "cell_type": "code",
   "execution_count": 18,
   "metadata": {},
   "outputs": [],
   "source": [
    "# Buscar el producto por código\n",
    "producto_seleccionado = None\n",
    "for producto in productos:\n",
    "    if producto['code'] == codigo_producto:\n",
    "        producto_seleccionado = producto\n",
    "        break"
   ]
  },
  {
   "cell_type": "code",
   "execution_count": 20,
   "metadata": {},
   "outputs": [],
   "source": [
    "def sumar_stock(producto, cantidad):\n",
    "    producto['stock'] += cantidad\n",
    "\n",
    "def restar_stock(producto, cantidad):\n",
    "    producto['stock'] -= cantidad\n"
   ]
  },
  {
   "cell_type": "code",
   "execution_count": 21,
   "metadata": {},
   "outputs": [
    {
     "name": "stdout",
     "output_type": "stream",
     "text": [
      "Producto seleccionado: Amarillo - Stock: 3\n",
      "Nuevo Stock: 6\n"
     ]
    }
   ],
   "source": [
    "if producto_seleccionado is not None:\n",
    "    # Mostrar información del producto seleccionado\n",
    "    print(f\"Producto seleccionado: {producto_seleccionado['nombre']} - Stock: {producto_seleccionado['stock']}\")\n",
    "\n",
    "    # Solicitar operación y cantidad\n",
    "    operacion = input(\"Ingrese 'sumar' o 'restar' para modificar el stock: \")\n",
    "    cantidad = int(input(\"Ingrese la cantidad de productos a modificar: \"))\n",
    "\n",
    "    # Llamar a las funciones correspondientes (sumar_stock o restar_stock)\n",
    "    if operacion == 'sumar':\n",
    "        sumar_stock(producto_seleccionado, cantidad)\n",
    "    elif operacion == 'restar':\n",
    "        restar_stock(producto_seleccionado, cantidad)\n",
    "\n",
    "    # Mostrar el stock actualizado\n",
    "    print(f\"Nuevo Stock: {producto_seleccionado['stock']}\")\n",
    "else:\n",
    "    print(\"Producto no encontrado.\")"
   ]
  },
  {
   "cell_type": "code",
   "execution_count": 28,
   "metadata": {},
   "outputs": [],
   "source": [
    "# Definir sucursales\n",
    "sucursales = {}\n"
   ]
  },
  {
   "cell_type": "code",
   "execution_count": 29,
   "metadata": {},
   "outputs": [],
   "source": [
    "# Pedir al usuario que ingrese las sucursales\n",
    "while True:\n",
    "    nombre_sucursal = input(\"Ingrese el nombre de la sucursal (o escriba 'fin' para terminar): \")\n",
    "\n",
    "    if nombre_sucursal.lower() == 'fin':\n",
    "        break\n",
    "\n",
    "    # Agregar la sucursal al diccionario de sucursales\n",
    "    sucursales[nombre_sucursal] = {}"
   ]
  },
  {
   "cell_type": "code",
   "execution_count": 30,
   "metadata": {},
   "outputs": [
    {
     "name": "stdout",
     "output_type": "stream",
     "text": [
      "Producto encontrado: Azul\n",
      "Producto encontrado: Amarillo\n"
     ]
    }
   ],
   "source": [
    "# Asignar productos a las sucursales\n",
    "while True:\n",
    "    code = input(\"Ingrese el código del producto que desea asignar (o escriba 'fin' para terminar): \")\n",
    "\n",
    "    if code.lower() == 'fin':\n",
    "        break\n",
    "\n",
    "    producto = next((p for p in productos if p['code'] == code), None)\n",
    "\n",
    "    if producto is not None:\n",
    "        print(f\"Producto encontrado: {producto['nombre']}\")\n",
    "\n",
    "        sucursal = input(\"Ingrese el nombre de la sucursal a la que desea asignar el producto: \")\n",
    "\n",
    "        if sucursal in sucursales:\n",
    "            cantidad = int(input(f\"Ingrese la cantidad de '{producto['nombre']}' que desea asignar a la sucursal '{sucursal}': \"))\n",
    "\n",
    "            if cantidad > producto['stock']:\n",
    "                print(f\"La cantidad ingresada supera el stock disponible ({producto['stock']}).\")\n",
    "            else:\n",
    "                sucursales[sucursal][code] = cantidad\n",
    "                producto['stock'] -= cantidad\n",
    "        else:\n",
    "            print(f\"La sucursal '{sucursal}' no existe.\")\n",
    "    else:\n",
    "        print(f\"No se encontró un producto con el código '{code}'.\")"
   ]
  },
  {
   "cell_type": "code",
   "execution_count": 31,
   "metadata": {},
   "outputs": [
    {
     "name": "stdout",
     "output_type": "stream",
     "text": [
      "\n",
      "Inventario por sucursal:\n",
      "Sucursal: Amor\n",
      "Producto: Azul, Cantidad: 1\n",
      "Sucursal: Chocolate\n",
      "Producto: Amarillo, Cantidad: 3\n"
     ]
    }
   ],
   "source": [
    "# Mostrar el inventario final de las sucursales\n",
    "print(\"\\nInventario por sucursal:\")\n",
    "for sucursal, inventario in sucursales.items():\n",
    "    print(f\"Sucursal: {sucursal}\")\n",
    "    for code, cantidad in inventario.items():\n",
    "        print(f\"Producto: {next((p['nombre'] for p in productos if p['code'] == code), 'Desconocido')}, Cantidad: {cantidad}\")\n"
   ]
  },
  {
   "cell_type": "code",
   "execution_count": 9,
   "metadata": {},
   "outputs": [
    {
     "ename": "NameError",
     "evalue": "name 'productos' is not defined",
     "output_type": "error",
     "traceback": [
      "\u001b[0;31m---------------------------------------------------------------------------\u001b[0m",
      "\u001b[0;31mNameError\u001b[0m                                 Traceback (most recent call last)",
      "\u001b[1;32m/Users/andrea.peralta/ProyectoInventarios/Proyecto_Inventarios/InventarioBack1.ipynb Celda 14\u001b[0m line \u001b[0;36m2\n\u001b[1;32m      <a href='vscode-notebook-cell:/Users/andrea.peralta/ProyectoInventarios/Proyecto_Inventarios/InventarioBack1.ipynb#X21sZmlsZQ%3D%3D?line=0'>1</a>\u001b[0m \u001b[39m# Convertir la lista de productos en un DataFrame\u001b[39;00m\n\u001b[0;32m----> <a href='vscode-notebook-cell:/Users/andrea.peralta/ProyectoInventarios/Proyecto_Inventarios/InventarioBack1.ipynb#X21sZmlsZQ%3D%3D?line=1'>2</a>\u001b[0m df_productos \u001b[39m=\u001b[39m pd\u001b[39m.\u001b[39mDataFrame(productos)\n\u001b[1;32m      <a href='vscode-notebook-cell:/Users/andrea.peralta/ProyectoInventarios/Proyecto_Inventarios/InventarioBack1.ipynb#X21sZmlsZQ%3D%3D?line=3'>4</a>\u001b[0m \u001b[39m# Visualizar el DataFrame como una tabla\u001b[39;00m\n\u001b[1;32m      <a href='vscode-notebook-cell:/Users/andrea.peralta/ProyectoInventarios/Proyecto_Inventarios/InventarioBack1.ipynb#X21sZmlsZQ%3D%3D?line=4'>5</a>\u001b[0m \u001b[39mprint\u001b[39m(df_productos)\n",
      "\u001b[0;31mNameError\u001b[0m: name 'productos' is not defined"
     ]
    }
   ],
   "source": []
  },
  {
   "cell_type": "code",
   "execution_count": 2,
   "metadata": {},
   "outputs": [
    {
     "ename": "NameError",
     "evalue": "name 'tabla' is not defined",
     "output_type": "error",
     "traceback": [
      "\u001b[0;31m---------------------------------------------------------------------------\u001b[0m",
      "\u001b[0;31mNameError\u001b[0m                                 Traceback (most recent call last)",
      "\u001b[1;32m/Users/andrea.peralta/ProyectoInventarios/Proyecto_Inventarios/InventarioBack1.ipynb Celda 14\u001b[0m line \u001b[0;36m1\n\u001b[0;32m----> <a href='vscode-notebook-cell:/Users/andrea.peralta/ProyectoInventarios/Proyecto_Inventarios/InventarioBack1.ipynb#X15sZmlsZQ%3D%3D?line=0'>1</a>\u001b[0m tabla\u001b[39m.\u001b[39mto_csv(\u001b[39m'\u001b[39m\u001b[39mproducto.csv\u001b[39m\u001b[39m'\u001b[39m, index\u001b[39m=\u001b[39m\u001b[39mFalse\u001b[39;00m)\n",
      "\u001b[0;31mNameError\u001b[0m: name 'tabla' is not defined"
     ]
    }
   ],
   "source": [
    "tabla.to_csv('producto.csv', index=False)"
   ]
  }
 ],
 "metadata": {
  "kernelspec": {
   "display_name": "Python 3",
   "language": "python",
   "name": "python3"
  },
  "language_info": {
   "codemirror_mode": {
    "name": "ipython",
    "version": 3
   },
   "file_extension": ".py",
   "mimetype": "text/x-python",
   "name": "python",
   "nbconvert_exporter": "python",
   "pygments_lexer": "ipython3",
   "version": "3.11.4"
  },
  "orig_nbformat": 4
 },
 "nbformat": 4,
 "nbformat_minor": 2
}
