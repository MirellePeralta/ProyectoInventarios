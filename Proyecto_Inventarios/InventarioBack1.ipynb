{
 "cells": [
  {
   "cell_type": "markdown",
   "metadata": {},
   "source": [
    "# **Creación de Diccionarios**"
   ]
  },
  {
   "cell_type": "code",
   "execution_count": 1,
   "metadata": {},
   "outputs": [],
   "source": [
    "import pandas as pd"
   ]
  },
  {
   "cell_type": "code",
   "execution_count": 2,
   "metadata": {},
   "outputs": [],
   "source": [
    "# Inicializamos una lista para almacenar los productos\n",
    "productos = []"
   ]
  },
  {
   "cell_type": "code",
   "execution_count": 3,
   "metadata": {},
   "outputs": [],
   "source": [
    "# Creamos un bucle para pedir productos al usuario\n",
    "while True:\n",
    "    nombre = input(\"Ingrese el nombre del producto (o escriba 'fin' para terminar): \")\n",
    "\n",
    "    if nombre.lower() == 'fin':\n",
    "        break\n",
    "\n",
    "    descripcion = input(\"Ingrese la descripción del producto: \")\n",
    "    precio = float(input(\"Ingrese el precio del producto: \"))\n",
    "    stock = int(input(\"Ingrese la cantidad en stock del producto: \"))\n",
    "    code = input(\"Ingrese el código del producto: \")\n",
    "    \n",
    "    # Creamos un diccionario para representar el producto\n",
    "    producto = {\n",
    "        'nombre': nombre,\n",
    "        'descripcion': descripcion,\n",
    "        'precio': precio,\n",
    "        'stock': stock,\n",
    "        'code': code,\n",
    "    }\n",
    "\n",
    "    # Añadimos el producto a la lista de productos\n",
    "    productos.append(producto)"
   ]
  },
  {
   "cell_type": "code",
   "execution_count": 4,
   "metadata": {},
   "outputs": [
    {
     "name": "stdout",
     "output_type": "stream",
     "text": [
      "   nombre    descripcion  precio  stock   code\n",
      "0    Azul     Blusa Azul   300.0      5  AA001\n",
      "1    Rojo  Pantalón Rojo   200.0      7  AA002\n",
      "2  Morado   Falda Morada   400.0      6    fin\n"
     ]
    }
   ],
   "source": [
    "# Convertir la lista de productos en un DataFrame\n",
    "df_productos = pd.DataFrame(productos)\n",
    "\n",
    "# Visualizar el DataFrame como una tabla\n",
    "print(df_productos)"
   ]
  },
  {
   "cell_type": "code",
   "execution_count": 5,
   "metadata": {},
   "outputs": [
    {
     "name": "stdout",
     "output_type": "stream",
     "text": [
      "\n",
      "Productos ingresados:\n",
      "Nombre: Azul, Descripción: Blusa Azul, Precio: 300.0, Stock: 5, Código: AA001\n",
      "Nombre: Rojo, Descripción: Pantalón Rojo, Precio: 200.0, Stock: 7, Código: AA002\n",
      "Nombre: Morado, Descripción: Falda Morada, Precio: 400.0, Stock: 6, Código: fin\n"
     ]
    }
   ],
   "source": [
    "# Mostramos los productos ingresados\n",
    "print(\"\\nProductos ingresados:\")\n",
    "for producto in productos:\n",
    "    print(f\"Nombre: {producto['nombre']}, Descripción: {producto['descripcion']}, Precio: {producto['precio']}, Stock: {producto['stock']}, Código: {producto['code']}\")"
   ]
  },
  {
   "cell_type": "code",
   "execution_count": 6,
   "metadata": {},
   "outputs": [],
   "source": [
    "codigo_producto = input(\"Ingrese el código del producto que desea modificar: \")"
   ]
  },
  {
   "cell_type": "code",
   "execution_count": 7,
   "metadata": {},
   "outputs": [],
   "source": [
    "# Buscar el producto por código\n",
    "producto_seleccionado = None\n",
    "for producto in productos:\n",
    "    if producto['code'] == codigo_producto:\n",
    "        producto_seleccionado = producto\n",
    "        break"
   ]
  },
  {
   "cell_type": "code",
   "execution_count": 8,
   "metadata": {},
   "outputs": [],
   "source": [
    "def sumar_stock(producto, cantidad):\n",
    "    producto['stock'] += cantidad\n",
    "\n",
    "def restar_stock(producto, cantidad):\n",
    "    producto['stock'] -= cantidad\n"
   ]
  },
  {
   "cell_type": "code",
   "execution_count": 9,
   "metadata": {},
   "outputs": [
    {
     "name": "stdout",
     "output_type": "stream",
     "text": [
      "Producto seleccionado: Azul - Stock: 5\n",
      "Nuevo Stock: 7\n"
     ]
    }
   ],
   "source": [
    "if producto_seleccionado is not None:\n",
    "    # Mostrar información del producto seleccionado\n",
    "    print(f\"Producto seleccionado: {producto_seleccionado['nombre']} - Stock: {producto_seleccionado['stock']}\")\n",
    "\n",
    "    # Solicitar operación y cantidad\n",
    "    operacion = input(\"Ingrese 'sumar' o 'restar' para modificar el stock: \")\n",
    "    cantidad = int(input(\"Ingrese la cantidad de productos a modificar: \"))\n",
    "\n",
    "    # Llamar a las funciones correspondientes (sumar_stock o restar_stock)\n",
    "    if operacion == 'sumar':\n",
    "        sumar_stock(producto_seleccionado, cantidad)\n",
    "    elif operacion == 'restar':\n",
    "        restar_stock(producto_seleccionado, cantidad)\n",
    "\n",
    "    # Mostrar el stock actualizado\n",
    "    print(f\"Nuevo Stock: {producto_seleccionado['stock']}\")\n",
    "else:\n",
    "    print(\"Producto no encontrado.\")"
   ]
  },
  {
   "cell_type": "code",
   "execution_count": 10,
   "metadata": {},
   "outputs": [],
   "source": [
    "# Definir sucursales\n",
    "sucursales = {}\n"
   ]
  },
  {
   "cell_type": "code",
   "execution_count": 11,
   "metadata": {},
   "outputs": [],
   "source": [
    "# Pedir al usuario que ingrese las sucursales\n",
    "while True:\n",
    "    nombre_sucursal = input(\"Ingrese el nombre de la sucursal (o escriba 'fin' para terminar): \")\n",
    "\n",
    "    if nombre_sucursal.lower() == 'fin':\n",
    "        break\n",
    "\n",
    "    # Agregar la sucursal al diccionario de sucursales\n",
    "    sucursales[nombre_sucursal] = {}"
   ]
  },
  {
   "cell_type": "code",
   "execution_count": 12,
   "metadata": {},
   "outputs": [
    {
     "name": "stdout",
     "output_type": "stream",
     "text": [
      "Producto encontrado: Azul\n",
      "Producto encontrado: Rojo\n"
     ]
    }
   ],
   "source": [
    "# Asignar productos a las sucursales\n",
    "while True:\n",
    "    code = input(\"Ingrese el código del producto que desea asignar (o escriba 'fin' para terminar): \")\n",
    "\n",
    "    if code.lower() == 'fin':\n",
    "        break\n",
    "\n",
    "    producto = next((p for p in productos if p['code'] == code), None)\n",
    "\n",
    "    if producto is not None:\n",
    "        print(f\"Producto encontrado: {producto['nombre']}\")\n",
    "\n",
    "        sucursal = input(\"Ingrese el nombre de la sucursal a la que desea asignar el producto: \")\n",
    "\n",
    "        if sucursal in sucursales:\n",
    "            cantidad = int(input(f\"Ingrese la cantidad de '{producto['nombre']}' que desea asignar a la sucursal '{sucursal}': \"))\n",
    "\n",
    "            if cantidad > producto['stock']:\n",
    "                print(f\"La cantidad ingresada supera el stock disponible ({producto['stock']}).\")\n",
    "            else:\n",
    "                sucursales[sucursal][code] = cantidad\n",
    "                producto['stock'] -= cantidad\n",
    "        else:\n",
    "            print(f\"La sucursal '{sucursal}' no existe.\")\n",
    "    else:\n",
    "        print(f\"No se encontró un producto con el código '{code}'.\")"
   ]
  },
  {
   "cell_type": "code",
   "execution_count": 13,
   "metadata": {},
   "outputs": [
    {
     "name": "stdout",
     "output_type": "stream",
     "text": [
      "\n",
      "Inventario por sucursal:\n",
      "Sucursal: Cielito\n",
      "Producto: Azul, Cantidad: 3\n",
      "Sucursal: María\n",
      "Producto: Rojo, Cantidad: 1\n"
     ]
    }
   ],
   "source": [
    "# Mostrar el inventario final de las sucursales\n",
    "print(\"\\nInventario por sucursal:\")\n",
    "for sucursal, inventario in sucursales.items():\n",
    "    print(f\"Sucursal: {sucursal}\")\n",
    "    for code, cantidad in inventario.items():\n",
    "        print(f\"Producto: {next((p['nombre'] for p in productos if p['code'] == code), 'Desconocido')}, Cantidad: {cantidad}\")\n"
   ]
  }
 ],
 "metadata": {
  "kernelspec": {
   "display_name": "Python 3",
   "language": "python",
   "name": "python3"
  },
  "language_info": {
   "codemirror_mode": {
    "name": "ipython",
    "version": 3
   },
   "file_extension": ".py",
   "mimetype": "text/x-python",
   "name": "python",
   "nbconvert_exporter": "python",
   "pygments_lexer": "ipython3",
   "version": "3.11.5"
  },
  "orig_nbformat": 4
 },
 "nbformat": 4,
 "nbformat_minor": 2
}
